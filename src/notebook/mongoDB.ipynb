{
 "cells": [
  {
   "cell_type": "code",
   "execution_count": 1,
   "id": "ed392e99",
   "metadata": {},
   "outputs": [],
   "source": [
    "import pandas as pd\n",
    "import pymongo"
   ]
  },
  {
   "cell_type": "code",
   "execution_count": 2,
   "id": "5a4c50ee",
   "metadata": {},
   "outputs": [],
   "source": [
    "df = pd.read_csv('https://raw.githubusercontent.com/vikashishere/YT-MLops-Proj1/refs/heads/main/notebook/data.csv')"
   ]
  },
  {
   "cell_type": "code",
   "execution_count": 3,
   "id": "a5e52614",
   "metadata": {},
   "outputs": [],
   "source": [
    "data = df.to_dict(orient='records')"
   ]
  },
  {
   "cell_type": "code",
   "execution_count": null,
   "id": "a32205f5",
   "metadata": {},
   "outputs": [],
   "source": [
    "DB_NAME = 'Proj1'\n",
    "COLLECTION_NAME = 'Proj1_Data'\n",
    "CONNECTION_URL = 'mongodb+srv://<user>:<password>@cluster0.wkebxxk.mongodb.net/?retryWrites=true&w=majority&appName=Cluster0'"
   ]
  },
  {
   "cell_type": "code",
   "execution_count": 9,
   "id": "9b97f385",
   "metadata": {},
   "outputs": [],
   "source": [
    "client = pymongo.MongoClient(CONNECTION_URL)\n",
    "database = client[DB_NAME]\n",
    "collection = database[COLLECTION_NAME]"
   ]
  },
  {
   "cell_type": "code",
   "execution_count": 10,
   "id": "84ea7ab4",
   "metadata": {},
   "outputs": [],
   "source": [
    "rec = collection.insert_many(data)"
   ]
  },
  {
   "cell_type": "code",
   "execution_count": null,
   "id": "b7625fc3",
   "metadata": {},
   "outputs": [],
   "source": []
  }
 ],
 "metadata": {
  "kernelspec": {
   "display_name": "vehicle_env",
   "language": "python",
   "name": "python3"
  },
  "language_info": {
   "codemirror_mode": {
    "name": "ipython",
    "version": 3
   },
   "file_extension": ".py",
   "mimetype": "text/x-python",
   "name": "python",
   "nbconvert_exporter": "python",
   "pygments_lexer": "ipython3",
   "version": "3.13.2"
  }
 },
 "nbformat": 4,
 "nbformat_minor": 5
}
